{
 "cells": [
  {
   "cell_type": "markdown",
   "id": "ca9bb34d",
   "metadata": {},
   "source": [
    "# Working with lists"
   ]
  },
  {
   "cell_type": "markdown",
   "id": "d1c86c82",
   "metadata": {},
   "source": [
    "## Concatenating Lists\n",
    "\n",
    "concatenating two seperate lists\n",
    "\n",
    "has same effect as appending the second list to the first list"
   ]
  },
  {
   "cell_type": "code",
   "execution_count": 2,
   "id": "ced26abc",
   "metadata": {},
   "outputs": [
    {
     "data": {
      "text/plain": [
       "'ab'"
      ]
     },
     "execution_count": 2,
     "metadata": {},
     "output_type": "execute_result"
    }
   ],
   "source": [
    "\"a\"+\"b\""
   ]
  },
  {
   "cell_type": "code",
   "execution_count": 7,
   "id": "d7f00be7",
   "metadata": {},
   "outputs": [
    {
     "name": "stdout",
     "output_type": "stream",
     "text": [
      "['a', 'b', 'c', 'd', 'e', 'f', 'g', 'h', 'i', 'j', 'k', 'l', 'm', 'n', 'o', 'p', 'q', 'r', 's', 't', 'u', 'v', 'w', 'x', 'y', 'z']\n"
     ]
    }
   ],
   "source": [
    "alphabet = \"abcdefghijklmnopqrstuvwxyz\"\n",
    "alpha_list = []\n",
    "for letter in alphabet:\n",
    "#   print(letter)\n",
    "    alpha_list = alpha_list + [letter]\n",
    "print(alpha_list)"
   ]
  },
  {
   "cell_type": "code",
   "execution_count": 9,
   "id": "788aa81d",
   "metadata": {},
   "outputs": [
    {
     "data": {
      "text/plain": [
       "[1, 2, 3, 4, 5, 6, 7, 8, 9, 10]"
      ]
     },
     "execution_count": 9,
     "metadata": {},
     "output_type": "execute_result"
    }
   ],
   "source": [
    "list1 = [1,2,3,4,5]\n",
    "list2 = [6,7,8,9,10]\n",
    "list1 + list2"
   ]
  },
  {
   "cell_type": "code",
   "execution_count": 10,
   "id": "1a3af9f4",
   "metadata": {},
   "outputs": [
    {
     "name": "stdout",
     "output_type": "stream",
     "text": [
      "This\n",
      "is\n",
      "a\n",
      "list\n",
      "of\n",
      "strings\n"
     ]
    }
   ],
   "source": [
    "str_list = [\"This\",\"is\",\"a\",\"list\",\"of\",\"strings\"]\n",
    "new_string = \"\"\n",
    "for string in str_list:\n",
    "    print(string)"
   ]
  },
  {
   "cell_type": "code",
   "execution_count": 12,
   "id": "874102c3",
   "metadata": {},
   "outputs": [
    {
     "name": "stdout",
     "output_type": "stream",
     "text": [
      "This \n",
      "This is \n",
      "This is a \n",
      "This is a list \n",
      "This is a list of \n",
      "This is a list of strings \n"
     ]
    },
    {
     "data": {
      "text/plain": [
       "'This is a list of strings'"
      ]
     },
     "execution_count": 12,
     "metadata": {},
     "output_type": "execute_result"
    }
   ],
   "source": [
    "str_list = [\"This\",\"is\",\"a\",\"list\",\"of\",\"strings\"]\n",
    "new_string = \"\"\n",
    "for string in str_list:\n",
    "    new_string = new_string + string + \" \"\n",
    "    print(new_string)\n",
    "new_string.strip()    "
   ]
  },
  {
   "cell_type": "code",
   "execution_count": 13,
   "id": "b8a04abe",
   "metadata": {},
   "outputs": [
    {
     "name": "stdout",
     "output_type": "stream",
     "text": [
      "\n",
      "\n",
      "\n",
      "\n",
      "\n",
      "\n",
      "\n"
     ]
    }
   ],
   "source": [
    "str_list = [\"This\",\"seems\",\"like\",\"I\",\"could\",\"just\",\"print\"]\n",
    "new_string = \"\"\n",
    "for string in str_list:\n",
    "    print(new_string)"
   ]
  },
  {
   "cell_type": "markdown",
   "id": "f129dc1e",
   "metadata": {},
   "source": [
    "### range(min,max+1,interval)"
   ]
  },
  {
   "cell_type": "code",
   "execution_count": 14,
   "id": "5631ed2a",
   "metadata": {},
   "outputs": [
    {
     "name": "stdout",
     "output_type": "stream",
     "text": [
      "0\n",
      "1\n",
      "2\n",
      "3\n",
      "4\n",
      "5\n",
      "6\n",
      "7\n",
      "8\n",
      "9\n"
     ]
    }
   ],
   "source": [
    "for i in range(10):\n",
    "    print(i)"
   ]
  },
  {
   "cell_type": "code",
   "execution_count": 16,
   "id": "c2bcd3b8",
   "metadata": {},
   "outputs": [
    {
     "name": "stdout",
     "output_type": "stream",
     "text": [
      "1\n",
      "2\n",
      "3\n",
      "4\n",
      "5\n",
      "6\n",
      "7\n",
      "8\n",
      "9\n",
      "10\n"
     ]
    }
   ],
   "source": [
    "for i in range(1,11):\n",
    "    print(i)"
   ]
  },
  {
   "cell_type": "code",
   "execution_count": 17,
   "id": "42dfe8fb",
   "metadata": {},
   "outputs": [
    {
     "data": {
      "text/plain": [
       "[0, 1, 2, 3, 4, 5, 6, 7, 8, 9]"
      ]
     },
     "execution_count": 17,
     "metadata": {},
     "output_type": "execute_result"
    }
   ],
   "source": [
    "list(range(0,10))"
   ]
  },
  {
   "cell_type": "code",
   "execution_count": 18,
   "id": "103aa0a9",
   "metadata": {},
   "outputs": [
    {
     "data": {
      "text/plain": [
       "range(0, 10)"
      ]
     },
     "execution_count": 18,
     "metadata": {},
     "output_type": "execute_result"
    }
   ],
   "source": [
    "range(0,10)"
   ]
  },
  {
   "cell_type": "code",
   "execution_count": 21,
   "id": "dc4724e5",
   "metadata": {},
   "outputs": [
    {
     "data": {
      "text/plain": [
       "[0, 1, 2, 3, 4, 5, 6, 7, 8, 9]"
      ]
     },
     "execution_count": 21,
     "metadata": {},
     "output_type": "execute_result"
    }
   ],
   "source": [
    "range_list = list(range(0,10))\n",
    "range_list"
   ]
  },
  {
   "cell_type": "code",
   "execution_count": 25,
   "id": "3b886e5a",
   "metadata": {},
   "outputs": [
    {
     "data": {
      "text/plain": [
       "[-10, -8, -6, -4, -2, 0, 2, 4, 6, 8, 10]"
      ]
     },
     "execution_count": 25,
     "metadata": {},
     "output_type": "execute_result"
    }
   ],
   "source": [
    "minrange = -10\n",
    "maxrange = 10\n",
    "interval = 2\n",
    "range_list = list(range(minrange,maxrange+1,interval))\n",
    "range_list"
   ]
  },
  {
   "cell_type": "code",
   "execution_count": 28,
   "id": "51a913c7",
   "metadata": {},
   "outputs": [
    {
     "name": "stdout",
     "output_type": "stream",
     "text": [
      "[-100, -97, -94, -91, -88, -85, -82, -79, -76, -73, -70, -67, -64, -61, -58, -55, -52, -49, -46, -43, -40, -37, -34, -31, -28, -25, -22, -19, -16, -13, -10, -7, -4, -1, 2, 5, 8, 11, 14, 17, 20, 23, 26, 29, 32, 35, 38, 41, 44, 47, 50, 53, 56, 59, 62, 65, 68, 71, 74, 77, 80, 83, 86, 89, 92, 95, 98]\n"
     ]
    }
   ],
   "source": [
    "minrange = -100\n",
    "maxrange = 100\n",
    "interval = 3\n",
    "range_list = list(range(minrange,maxrange +1,interval))\n",
    "print(range_list)"
   ]
  },
  {
   "cell_type": "code",
   "execution_count": 30,
   "id": "cf9f6aaa",
   "metadata": {},
   "outputs": [
    {
     "name": "stdout",
     "output_type": "stream",
     "text": [
      "[-100, -91, -82, -73, -64, -55, -46, -37, -28, -19, -10, -1, 8, 17, 26, 35, 44, 53, 62, 71, 80, 89, 98]\n"
     ]
    }
   ],
   "source": [
    "minrange = -100\n",
    "maxrange = 100\n",
    "interval = 3\n",
    "range_list = list(range(minrange,maxrange +1,interval))\n",
    "print(range_list[::interval])"
   ]
  },
  {
   "cell_type": "code",
   "execution_count": 31,
   "id": "f8a640fc",
   "metadata": {},
   "outputs": [
    {
     "name": "stdout",
     "output_type": "stream",
     "text": [
      "[-100, -97, -94, -91, -88, -85, -82, -79, -76, -73, -70, -67, -64, -61, -58, -55, -52, -49, -46, -43, -40, -37, -34, -31, -28, -25, -22, -19, -16, -13, -10, -7, -4, -1, 2, 5, 8, 11, 14, 17, 20, 23, 26, 29, 32, 35, 38, 41, 44, 47, 50, 53, 56, 59, 62, 65, 68, 71, 74, 77, 80, 83, 86, 89, 92, 95, 98]\n",
      "[-100, -91, -82, -73, -64, -55, -46, -37, -28, -19, -10, -1, 8, 17, 26, 35, 44, 53, 62, 71, 80, 89, 98]\n"
     ]
    }
   ],
   "source": [
    "minrange = -100\n",
    "maxrange = 100\n",
    "interval = 3\n",
    "range_list = list(range(minrange,maxrange +1,interval))\n",
    "print(range_list)\n",
    "print(range_list[::interval])"
   ]
  },
  {
   "cell_type": "code",
   "execution_count": 32,
   "id": "64a7cce2",
   "metadata": {},
   "outputs": [
    {
     "name": "stdout",
     "output_type": "stream",
     "text": [
      "[-100, -99, -98, -97, -96, -95, -94, -93, -92, -91, -90, -89, -88, -87, -86, -85, -84, -83, -82, -81, -80, -79, -78, -77, -76, -75, -74, -73, -72, -71, -70, -69, -68, -67, -66, -65, -64, -63, -62, -61, -60, -59, -58, -57, -56, -55, -54, -53, -52, -51, -50, -49, -48, -47, -46, -45, -44, -43, -42, -41, -40, -39, -38, -37, -36, -35, -34, -33, -32, -31, -30, -29, -28, -27, -26, -25, -24, -23, -22, -21, -20, -19, -18, -17, -16, -15, -14, -13, -12, -11, -10, -9, -8, -7, -6, -5, -4, -3, -2, -1, 0, 1, 2, 3, 4, 5, 6, 7, 8, 9, 10, 11, 12, 13, 14, 15, 16, 17, 18, 19, 20, 21, 22, 23, 24, 25, 26, 27, 28, 29, 30, 31, 32, 33, 34, 35, 36, 37, 38, 39, 40, 41, 42, 43, 44, 45, 46, 47, 48, 49, 50, 51, 52, 53, 54, 55, 56, 57, 58, 59, 60, 61, 62, 63, 64, 65, 66, 67, 68, 69, 70, 71, 72, 73, 74, 75, 76, 77, 78, 79, 80, 81, 82, 83, 84, 85, 86, 87, 88, 89, 90, 91, 92, 93, 94, 95, 96, 97, 98, 99, 100]\n",
      "[-100, -97, -94, -91, -88, -85, -82, -79, -76, -73, -70, -67, -64, -61, -58, -55, -52, -49, -46, -43, -40, -37, -34, -31, -28, -25, -22, -19, -16, -13, -10, -7, -4, -1, 2, 5, 8, 11, 14, 17, 20, 23, 26, 29, 32, 35, 38, 41, 44, 47, 50, 53, 56, 59, 62, 65, 68, 71, 74, 77, 80, 83, 86, 89, 92, 95, 98]\n"
     ]
    }
   ],
   "source": [
    "minrange = -100\n",
    "maxrange = 100\n",
    "interval = 3\n",
    "range_list = list(range(minrange,maxrange +1))\n",
    "print(range_list)\n",
    "print(range_list[::interval])"
   ]
  },
  {
   "cell_type": "markdown",
   "id": "728474fa",
   "metadata": {},
   "source": [
    "# Generator Functions"
   ]
  },
  {
   "cell_type": "code",
   "execution_count": 33,
   "id": "40af1272",
   "metadata": {},
   "outputs": [
    {
     "name": "stdout",
     "output_type": "stream",
     "text": [
      "2\n",
      "6\n",
      "9\n",
      "6\n",
      "8\n",
      "10\n",
      "1\n",
      "5\n",
      "8\n",
      "4\n"
     ]
    }
   ],
   "source": [
    "import random\n",
    "for i in range(10):\n",
    "    print(random.randint(0,10))"
   ]
  },
  {
   "cell_type": "code",
   "execution_count": 34,
   "id": "41abfd07",
   "metadata": {},
   "outputs": [
    {
     "data": {
      "text/plain": [
       "[-10, -9, -8, -7, -6, -5, -4, -3, -2, -1, 0, 1, 2, 3, 4, 5, 6, 7, 8, 9, 10]"
      ]
     },
     "execution_count": 34,
     "metadata": {},
     "output_type": "execute_result"
    }
   ],
   "source": [
    "minrange=-10\n",
    "maxrange=10\n",
    "x = [i for i in range(minrange,maxrange+1)]\n",
    "x"
   ]
  },
  {
   "cell_type": "code",
   "execution_count": 36,
   "id": "229eea3c",
   "metadata": {},
   "outputs": [
    {
     "data": {
      "text/plain": [
       "[171,\n",
       " 136,\n",
       " 105,\n",
       " 78,\n",
       " 55,\n",
       " 36,\n",
       " 21,\n",
       " 10,\n",
       " 3,\n",
       " 0,\n",
       " 1,\n",
       " 6,\n",
       " 15,\n",
       " 28,\n",
       " 45,\n",
       " 66,\n",
       " 91,\n",
       " 120,\n",
       " 153,\n",
       " 190,\n",
       " 231]"
      ]
     },
     "execution_count": 36,
     "metadata": {},
     "output_type": "execute_result"
    }
   ],
   "source": [
    "y = [2*x**2+3*x+1 for x in range(minrange,maxrange+1)]\n",
    "y"
   ]
  },
  {
   "cell_type": "code",
   "execution_count": 37,
   "id": "bdf9645b",
   "metadata": {},
   "outputs": [
    {
     "data": {
      "text/plain": [
       "[<matplotlib.lines.Line2D at 0x1df68659d10>]"
      ]
     },
     "execution_count": 37,
     "metadata": {},
     "output_type": "execute_result"
    },
    {
     "data": {
      "image/png": "[encoded data removed]",
      "text/plain": [
       "<Figure size 640x480 with 1 Axes>"
      ]
     },
     "metadata": {},
     "output_type": "display_data"
    }
   ],
   "source": [
    "import matplotlib.pyplot as plt\n",
    "plt.plot(y)"
   ]
  },
  {
   "cell_type": "markdown",
   "id": "dab6038e",
   "metadata": {},
   "source": [
    "$$y=2x^2 + 3x + 1$$"
   ]
  },
  {
   "cell_type": "code",
   "execution_count": 38,
   "id": "caaf83fc",
   "metadata": {},
   "outputs": [],
   "source": [
    "# I understand that I didn't have to do this. It just looked cool so I had to try it."
   ]
  },
  {
   "cell_type": "code",
   "execution_count": 40,
   "id": "de0de0d9",
   "metadata": {},
   "outputs": [
    {
     "data": {
      "text/plain": [
       "[<matplotlib.lines.Line2D at 0x1df68f98d10>]"
      ]
     },
     "execution_count": 40,
     "metadata": {},
     "output_type": "execute_result"
    },
    {
     "data": {
      "image/png": "[encoded data removed]",
      "text/plain": [
       "<Figure size 640x480 with 1 Axes>"
      ]
     },
     "metadata": {},
     "output_type": "display_data"
    }
   ],
   "source": [
    "y = [random.randint(minrange,maxrange+1) for x in range(minrange,maxrange+1)]\n",
    "y\n",
    "plt.plot(y,ls=\"\",marker = \".\")"
   ]
  },
  {
   "cell_type": "code",
   "execution_count": 44,
   "id": "5b85bba5",
   "metadata": {},
   "outputs": [
    {
     "data": {
      "text/plain": [
       "[<matplotlib.lines.Line2D at 0x1df690458d0>]"
      ]
     },
     "execution_count": 44,
     "metadata": {},
     "output_type": "execute_result"
    },
    {
     "data": {
      "image/png": "[encoded data removed]",
      "text/plain": [
       "<Figure size 640x480 with 1 Axes>"
      ]
     },
     "metadata": {},
     "output_type": "display_data"
    }
   ],
   "source": [
    "y=[random.randint(minrange,maxrange+1) for x in range(100)]\n",
    "plt.plot(y,ls=\"\",marker = \".\")"
   ]
  },
  {
   "cell_type": "markdown",
   "id": "4c2ac0b7",
   "metadata": {},
   "source": [
    "### data for project -> gapminder.org\n",
    "Fred"
   ]
  },
  {
   "cell_type": "code",
   "execution_count": null,
   "id": "54cb8012",
   "metadata": {},
   "outputs": [],
   "source": [
    "plt.plot(y,ls=\"\",marker = \".\")"
   ]
  }
 ],
 "metadata": {
  "kernelspec": {
   "display_name": "Python 3 (ipykernel)",
   "language": "python",
   "name": "python3"
  },
  "language_info": {
   "codemirror_mode": {
    "name": "ipython",
    "version": 3
   },
   "file_extension": ".py",
   "mimetype": "text/x-python",
   "name": "python",
   "nbconvert_exporter": "python",
   "pygments_lexer": "ipython3",
   "version": "3.11.5"
  }
 },
 "nbformat": 4,
 "nbformat_minor": 5
}
