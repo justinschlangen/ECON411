{
 "cells": [
  {
   "cell_type": "markdown",
   "id": "c02ee1ca",
   "metadata": {},
   "source": [
    "# Project 1: The Essentials"
   ]
  },
  {
   "cell_type": "code",
   "execution_count": 1,
   "id": "1fa148d7",
   "metadata": {},
   "outputs": [
    {
     "name": "stdout",
     "output_type": "stream",
     "text": [
      "Hello World!\n"
     ]
    }
   ],
   "source": [
    "print(\"Hello World!\")"
   ]
  },
  {
   "cell_type": "code",
   "execution_count": 2,
   "id": "2a1469f3",
   "metadata": {},
   "outputs": [
    {
     "name": "stdout",
     "output_type": "stream",
     "text": [
      "[]\n"
     ]
    },
    {
     "data": {
      "text/plain": [
       "[]"
      ]
     },
     "execution_count": 2,
     "metadata": {},
     "output_type": "execute_result"
    }
   ],
   "source": [
    "x=[]\n",
    "print(x)\n",
    "x"
   ]
  },
  {
   "cell_type": "code",
   "execution_count": 7,
   "id": "23eebdd1",
   "metadata": {},
   "outputs": [],
   "source": [
    "msg = \"Hello World\""
   ]
  },
  {
   "cell_type": "code",
   "execution_count": 8,
   "id": "b1d3320c",
   "metadata": {},
   "outputs": [],
   "source": [
    "## Create new line -> Alt+Enter\n",
    "## Run -> Ctrl+Enter\n",
    "## Create new line and run -> Shift+Enter"
   ]
  },
  {
   "cell_type": "code",
   "execution_count": 9,
   "id": "085ea76f",
   "metadata": {},
   "outputs": [
    {
     "name": "stdout",
     "output_type": "stream",
     "text": [
      "Hello World!\n"
     ]
    }
   ],
   "source": [
    "print(\"Hello World!\")"
   ]
  },
  {
   "cell_type": "markdown",
   "id": "f06b8963",
   "metadata": {},
   "source": [
    "msg = \"Hello World\"\n",
    "msg"
   ]
  },
  {
   "cell_type": "code",
   "execution_count": 10,
   "id": "41f78ba4",
   "metadata": {},
   "outputs": [
    {
     "data": {
      "text/plain": [
       "'Hello World'"
      ]
     },
     "execution_count": 10,
     "metadata": {},
     "output_type": "execute_result"
    }
   ],
   "source": [
    "msg"
   ]
  },
  {
   "cell_type": "code",
   "execution_count": 11,
   "id": "51aef5e2",
   "metadata": {},
   "outputs": [],
   "source": [
    "msg = \"Hello World\""
   ]
  },
  {
   "cell_type": "code",
   "execution_count": 12,
   "id": "a1966d8f",
   "metadata": {},
   "outputs": [
    {
     "data": {
      "text/plain": [
       "'Hello World'"
      ]
     },
     "execution_count": 12,
     "metadata": {},
     "output_type": "execute_result"
    }
   ],
   "source": [
    "msg"
   ]
  },
  {
   "cell_type": "code",
   "execution_count": 13,
   "id": "1576002a",
   "metadata": {},
   "outputs": [
    {
     "name": "stdout",
     "output_type": "stream",
     "text": [
      "Hello World\n"
     ]
    }
   ],
   "source": [
    "print(msg)"
   ]
  },
  {
   "cell_type": "code",
   "execution_count": 14,
   "id": "9ea637af",
   "metadata": {},
   "outputs": [
    {
     "data": {
      "text/plain": [
       "<function str.lower()>"
      ]
     },
     "execution_count": 14,
     "metadata": {},
     "output_type": "execute_result"
    }
   ],
   "source": [
    "msg.lower"
   ]
  },
  {
   "cell_type": "code",
   "execution_count": 15,
   "id": "7406bbee",
   "metadata": {},
   "outputs": [
    {
     "data": {
      "text/plain": [
       "'hello world'"
      ]
     },
     "execution_count": 15,
     "metadata": {},
     "output_type": "execute_result"
    }
   ],
   "source": [
    "msg.lower()"
   ]
  },
  {
   "cell_type": "code",
   "execution_count": 16,
   "id": "60f9a098",
   "metadata": {},
   "outputs": [
    {
     "name": "stdout",
     "output_type": "stream",
     "text": [
      "Data\n",
      "Label\n"
     ]
    }
   ],
   "source": [
    "print(\"data_label\".title().replace(\"_\",\"\\n\"))"
   ]
  },
  {
   "cell_type": "code",
   "execution_count": 17,
   "id": "d1bc6675",
   "metadata": {},
   "outputs": [
    {
     "data": {
      "text/plain": [
       "('123', 6)"
      ]
     },
     "execution_count": 17,
     "metadata": {},
     "output_type": "execute_result"
    }
   ],
   "source": [
    "\"1\"+\"2\"+\"3\",1+2+3"
   ]
  },
  {
   "cell_type": "code",
   "execution_count": 18,
   "id": "53abe38b",
   "metadata": {},
   "outputs": [
    {
     "data": {
      "text/plain": [
       "'123'"
      ]
     },
     "execution_count": 18,
     "metadata": {},
     "output_type": "execute_result"
    }
   ],
   "source": [
    "\"1\"\"2\"\"3\""
   ]
  },
  {
   "cell_type": "code",
   "execution_count": 19,
   "id": "4a05de84",
   "metadata": {},
   "outputs": [
    {
     "name": "stdout",
     "output_type": "stream",
     "text": [
      "The Zen of Python, by Tim Peters\n",
      "\n",
      "Beautiful is better than ugly.\n",
      "Explicit is better than implicit.\n",
      "Simple is better than complex.\n",
      "Complex is better than complicated.\n",
      "Flat is better than nested.\n",
      "Sparse is better than dense.\n",
      "Readability counts.\n",
      "Special cases aren't special enough to break the rules.\n",
      "Although practicality beats purity.\n",
      "Errors should never pass silently.\n",
      "Unless explicitly silenced.\n",
      "In the face of ambiguity, refuse the temptation to guess.\n",
      "There should be one-- and preferably only one --obvious way to do it.\n",
      "Although that way may not be obvious at first unless you're Dutch.\n",
      "Now is better than never.\n",
      "Although never is often better than *right* now.\n",
      "If the implementation is hard to explain, it's a bad idea.\n",
      "If the implementation is easy to explain, it may be a good idea.\n",
      "Namespaces are one honking great idea -- let's do more of those!\n"
     ]
    }
   ],
   "source": [
    "import this"
   ]
  },
  {
   "cell_type": "code",
   "execution_count": 20,
   "id": "3c2d0013",
   "metadata": {},
   "outputs": [],
   "source": [
    "line1 = \"You thought it would be easy\"\n",
    "line2 = \"You thought it would be fun\"\n",
    "line3 = \"But now you're coding and miserable\"\n",
    "line4 = \"So now my life is about to be done\""
   ]
  },
  {
   "cell_type": "code",
   "execution_count": 21,
   "id": "9580c77f",
   "metadata": {},
   "outputs": [
    {
     "data": {
      "text/plain": [
       "('You thought it would be easy',\n",
       " 'You thought it would be fun',\n",
       " \"But now you're coding and miserable\",\n",
       " 'So now my life is about to be done')"
      ]
     },
     "execution_count": 21,
     "metadata": {},
     "output_type": "execute_result"
    }
   ],
   "source": [
    "line1,line2,line3,line4"
   ]
  },
  {
   "cell_type": "code",
   "execution_count": 22,
   "id": "44e55ddd",
   "metadata": {},
   "outputs": [
    {
     "name": "stdout",
     "output_type": "stream",
     "text": [
      "You thought it would be easy You thought it would be fun But now you're coding and miserable So now my life is about to be done\n"
     ]
    }
   ],
   "source": [
    "print(line1,line2,line3,line4)"
   ]
  },
  {
   "cell_type": "code",
   "execution_count": 23,
   "id": "ccaaad80",
   "metadata": {},
   "outputs": [
    {
     "name": "stdout",
     "output_type": "stream",
     "text": [
      "You thought it would be easy\n",
      "You thought it would be fun\n",
      "But now you're coding and miserable\n",
      "So now my life is about to be done\n"
     ]
    }
   ],
   "source": [
    "print(line1,line2,line3,line4, sep = \"\\n\")"
   ]
  },
  {
   "cell_type": "markdown",
   "id": "35bd208f",
   "metadata": {},
   "source": [
    "### I didn't realize I had to turn this in. I was just joking."
   ]
  },
  {
   "cell_type": "code",
   "execution_count": 26,
   "id": "91d89bb1",
   "metadata": {},
   "outputs": [
    {
     "name": "stdout",
     "output_type": "stream",
     "text": [
      "You thought it would be easy:)You thought it would be fun\n",
      "But now you're coding and miserableand having fun So now my life is about to be done\n"
     ]
    }
   ],
   "source": [
    "print( line1 +\":)\" + line2 +\"\\n\"+line3+\"and having fun \"+line4)"
   ]
  },
  {
   "cell_type": "code",
   "execution_count": 27,
   "id": "bea2910c",
   "metadata": {},
   "outputs": [
    {
     "name": "stdout",
     "output_type": "stream",
     "text": [
      "Everything in this object will be recorded exactly as entered,\n",
      "if we enter a new line or \n",
      "    a new line with a tab.\n"
     ]
    }
   ],
   "source": [
    "x = \"\"\"\\\n",
    "Everything in this object will be recorded exactly as entered,\n",
    "if we enter a new line or \n",
    "    a new line with a tab.\"\"\"\n",
    "    \n",
    "print(x)"
   ]
  },
  {
   "cell_type": "code",
   "execution_count": 28,
   "id": "fa32ff3e",
   "metadata": {},
   "outputs": [
    {
     "name": "stdout",
     "output_type": "stream",
     "text": [
      "num1: 8 \n",
      "num2: 53\n"
     ]
    }
   ],
   "source": [
    "num1 = 5 + 3\n",
    "num2 = \"5\" + \"3\"\n",
    "print(\"num1:\", num1, \"\\nnum2:\", num2)"
   ]
  },
  {
   "cell_type": "code",
   "execution_count": 29,
   "id": "d60968c3",
   "metadata": {},
   "outputs": [
    {
     "name": "stdout",
     "output_type": "stream",
     "text": [
      "num1: 1.6666666666666667 \n",
      "num2: 1.25 \n",
      "num3: 1.3333333333333333\n"
     ]
    }
   ],
   "source": [
    "num1 = 5 / 3\n",
    "num2 = 5 / 4\n",
    "num3 = 4 / 3\n",
    "\n",
    "print(\"num1:\", num1, \"\\nnum2:\", num2, \"\\nnum3:\", num3)"
   ]
  },
  {
   "cell_type": "code",
   "execution_count": 30,
   "id": "baa89b25",
   "metadata": {},
   "outputs": [
    {
     "name": "stdout",
     "output_type": "stream",
     "text": [
      "sys.float_info(max=1.7976931348623157e+308, max_exp=1024, max_10_exp=308, min=2.2250738585072014e-308, min_exp=-1021, min_10_exp=-307, dig=15, mant_dig=53, epsilon=2.220446049250313e-16, radix=2, rounds=1)\n"
     ]
    }
   ],
   "source": [
    "import sys\n",
    "print(sys.float_info)"
   ]
  },
  {
   "cell_type": "code",
   "execution_count": 31,
   "id": "8b59ff99",
   "metadata": {},
   "outputs": [
    {
     "name": "stdout",
     "output_type": "stream",
     "text": [
      "8.98846567431158e+307\n"
     ]
    }
   ],
   "source": [
    "x = 2.0 ** 1023\n",
    "print(x)"
   ]
  },
  {
   "cell_type": "code",
   "execution_count": 32,
   "id": "7ceff2a4",
   "metadata": {},
   "outputs": [
    {
     "ename": "OverflowError",
     "evalue": "(34, 'Result too large')",
     "output_type": "error",
     "traceback": [
      "\u001b[1;31m---------------------------------------------------------------------------\u001b[0m",
      "\u001b[1;31mOverflowError\u001b[0m                             Traceback (most recent call last)",
      "Cell \u001b[1;32mIn[32], line 1\u001b[0m\n\u001b[1;32m----> 1\u001b[0m \u001b[38;5;241m2.0\u001b[39m \u001b[38;5;241m*\u001b[39m\u001b[38;5;241m*\u001b[39m \u001b[38;5;241m1024\u001b[39m\n",
      "\u001b[1;31mOverflowError\u001b[0m: (34, 'Result too large')"
     ]
    }
   ],
   "source": [
    "2.0 ** 1024"
   ]
  },
  {
   "cell_type": "code",
   "execution_count": 33,
   "id": "a0423fc4",
   "metadata": {},
   "outputs": [
    {
     "name": "stdout",
     "output_type": "stream",
     "text": [
      "x is of <class 'float'> and is equal to 8.98846567431158e+307\n",
      "y is of <class 'int'> and is equal to 359538626972463181545861038157804946723595395788461314546860162315465351611001926265416954644815072042240227759742786715317579537628833244985694861278948248755535786849730970552604439202492188238906165904170011537676301364684925762947826221081654474326701021369172596479894491876959432609670712659248448274432\n"
     ]
    }
   ],
   "source": [
    "x = 2.0 ** 1023\n",
    "print(\"x is of\", type(x), \"and is equal to\", x)\n",
    "y = 2 ** 1025\n",
    "print(\"y is of\", type(y), \"and is equal to\", y)"
   ]
  },
  {
   "cell_type": "code",
   "execution_count": null,
   "id": "f646d822",
   "metadata": {},
   "outputs": [],
   "source": []
  }
 ],
 "metadata": {
  "kernelspec": {
   "display_name": "Python 3 (ipykernel)",
   "language": "python",
   "name": "python3"
  },
  "language_info": {
   "codemirror_mode": {
    "name": "ipython",
    "version": 3
   },
   "file_extension": ".py",
   "mimetype": "text/x-python",
   "name": "python",
   "nbconvert_exporter": "python",
   "pygments_lexer": "ipython3",
   "version": "3.11.5"
  }
 },
 "nbformat": 4,
 "nbformat_minor": 5
}
