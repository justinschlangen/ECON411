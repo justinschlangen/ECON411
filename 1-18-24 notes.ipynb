{
 "cells": [
  {
   "cell_type": "markdown",
   "id": "509e92e5",
   "metadata": {},
   "source": [
    "# Figure out Github TODAY"
   ]
  },
  {
   "cell_type": "code",
   "execution_count": 6,
   "id": "c8451a30",
   "metadata": {},
   "outputs": [],
   "source": [
    "minrange=-10"
   ]
  },
  {
   "cell_type": "code",
   "execution_count": 7,
   "id": "b7990a75",
   "metadata": {},
   "outputs": [],
   "source": [
    "maxrange=10"
   ]
  },
  {
   "cell_type": "code",
   "execution_count": 9,
   "id": "ad62475f",
   "metadata": {},
   "outputs": [
    {
     "name": "stdout",
     "output_type": "stream",
     "text": [
      "[-10, -9, -8, -7, -6, -5, -4, -3, -2, -1, 0, 1, 2, 3, 4, 5, 6, 7, 8, 9, 10]\n",
      "[171, 136, 105, 78, 55, 36, 21, 10, 3, 0, 1, 6, 15, 28, 45, 66, 91, 120, 153, 190, 231]\n"
     ]
    },
    {
     "data": {
      "text/plain": [
       "[(-10, 171),\n",
       " (-9, 136),\n",
       " (-8, 105),\n",
       " (-7, 78),\n",
       " (-6, 55),\n",
       " (-5, 36),\n",
       " (-4, 21),\n",
       " (-3, 10),\n",
       " (-2, 3),\n",
       " (-1, 0),\n",
       " (0, 1),\n",
       " (1, 6),\n",
       " (2, 15),\n",
       " (3, 28),\n",
       " (4, 45),\n",
       " (5, 66),\n",
       " (6, 91),\n",
       " (7, 120),\n",
       " (8, 153),\n",
       " (9, 190),\n",
       " (10, 231)]"
      ]
     },
     "execution_count": 9,
     "metadata": {},
     "output_type": "execute_result"
    }
   ],
   "source": [
    "x_list = [x for x in range(minrange, maxrange+1)]\n",
    "y= [2 * x ** 2 + 3 * x + 1 for x in x_list]\n",
    "print(x_list)\n",
    "print(y)\n",
    "list (zip(x_list,y))"
   ]
  },
  {
   "cell_type": "code",
   "execution_count": 10,
   "id": "f61a4d52",
   "metadata": {},
   "outputs": [
    {
     "data": {
      "text/plain": [
       "(21, 21)"
      ]
     },
     "execution_count": 10,
     "metadata": {},
     "output_type": "execute_result"
    }
   ],
   "source": [
    "len(x_list), len(y)"
   ]
  },
  {
   "cell_type": "code",
   "execution_count": 12,
   "id": "ef33d548",
   "metadata": {},
   "outputs": [
    {
     "name": "stdout",
     "output_type": "stream",
     "text": [
      "x\ty\n",
      "-10\t171\n",
      "-9\t136\n",
      "-8\t105\n",
      "-7\t78\n",
      "-6\t55\n",
      "-5\t36\n",
      "-4\t21\n",
      "-3\t10\n",
      "-2\t3\n",
      "-1\t0\n",
      "0\t1\n",
      "1\t6\n",
      "2\t15\n",
      "3\t28\n",
      "4\t45\n",
      "5\t66\n",
      "6\t91\n",
      "7\t120\n",
      "8\t153\n",
      "9\t190\n",
      "10\t231\n"
     ]
    }
   ],
   "source": [
    "print(\"x\",\"y\", sep = \"\\t\")\n",
    "for i in range(len(x_list)):\n",
    "    print(x_list[i], y[i], sep = \"\\t\")"
   ]
  },
  {
   "cell_type": "code",
   "execution_count": 13,
   "id": "4256f463",
   "metadata": {},
   "outputs": [
    {
     "name": "stdout",
     "output_type": "stream",
     "text": [
      "171\t-10\t1.9\n",
      "136\t-9\t1.4945054945054945\n",
      "105\t-8\t1.141304347826087\n",
      "78\t-7\t0.8387096774193549\n",
      "55\t-6\t0.5851063829787234\n",
      "36\t-5\t0.37894736842105264\n",
      "21\t-4\t0.21875\n",
      "10\t-3\t0.10309278350515463\n",
      "3\t-2\t0.030612244897959183\n",
      "0\t-1\t0.0\n",
      "1\t0\t0.01\n",
      "6\t1\t0.0594059405940594\n",
      "15\t2\t0.14705882352941177\n",
      "28\t3\t0.27184466019417475\n",
      "45\t4\t0.4326923076923077\n",
      "66\t5\t0.6285714285714286\n",
      "91\t6\t0.8584905660377359\n",
      "120\t7\t1.1214953271028036\n",
      "153\t8\t1.4166666666666667\n",
      "190\t9\t1.7431192660550459\n",
      "231\t10\t2.1\n"
     ]
    }
   ],
   "source": [
    "for i in range(len(x_list)):\n",
    "    print(y[i], x_list[i],y[i] / (x_list[i]+100), sep = \"\\t\")"
   ]
  },
  {
   "cell_type": "code",
   "execution_count": 14,
   "id": "d5749e6f",
   "metadata": {},
   "outputs": [
    {
     "name": "stdout",
     "output_type": "stream",
     "text": [
      "y\tx\ty/(x+100)\n",
      "171\t-10\t1.9\n",
      "136\t-9\t1.4945054945054945\n",
      "105\t-8\t1.141304347826087\n",
      "78\t-7\t0.8387096774193549\n",
      "55\t-6\t0.5851063829787234\n",
      "36\t-5\t0.37894736842105264\n",
      "21\t-4\t0.21875\n",
      "10\t-3\t0.10309278350515463\n",
      "3\t-2\t0.030612244897959183\n",
      "0\t-1\t0.0\n",
      "1\t0\t0.01\n",
      "6\t1\t0.0594059405940594\n",
      "15\t2\t0.14705882352941177\n",
      "28\t3\t0.27184466019417475\n",
      "45\t4\t0.4326923076923077\n",
      "66\t5\t0.6285714285714286\n",
      "91\t6\t0.8584905660377359\n",
      "120\t7\t1.1214953271028036\n",
      "153\t8\t1.4166666666666667\n",
      "190\t9\t1.7431192660550459\n",
      "231\t10\t2.1\n"
     ]
    }
   ],
   "source": [
    "print(\"y\", \"x\", \"y/(x+100)\", sep = \"\\t\")\n",
    "for i in range(len(x_list)):\n",
    "    print(y[i], x_list[i],y[i] / (x_list[i] + 100), sep = \"\\t\")"
   ]
  },
  {
   "cell_type": "markdown",
   "id": "8573dda8",
   "metadata": {},
   "source": [
    "## Delete (del)"
   ]
  },
  {
   "cell_type": "code",
   "execution_count": 16,
   "id": "ac6b66a8",
   "metadata": {},
   "outputs": [
    {
     "name": "stdout",
     "output_type": "stream",
     "text": [
      "[-10, -9, -8, -7, -6, -5, -4, -3, -2, -1, 0, 1, 2, 3, 4, 5, 6, 7, 8, 9, 10]\n",
      "[171, 136, 105, 78, 55, 36, 21, 10, 3, 0, 1, 6, 15, 28, 45, 66, 91, 120, 153, 190, 231]\n"
     ]
    }
   ],
   "source": [
    "print(x_list)\n",
    "print(y)"
   ]
  },
  {
   "cell_type": "code",
   "execution_count": 17,
   "id": "66dd4744",
   "metadata": {},
   "outputs": [
    {
     "name": "stdout",
     "output_type": "stream",
     "text": [
      "[-9, -8, -7, -6, -5, -4, -3, -2, -1, 0, 1, 2, 3, 4, 5, 6, 7, 8, 9, 10]\n",
      "[136, 105, 78, 55, 36, 21, 10, 3, 0, 1, 6, 15, 28, 45, 66, 91, 120, 153, 190, 231]\n"
     ]
    }
   ],
   "source": [
    "del x_list[0]\n",
    "del y[0]\n",
    "print(x_list)\n",
    "print(y)"
   ]
  },
  {
   "cell_type": "markdown",
   "id": "3dc2de8b",
   "metadata": {},
   "source": [
    "## Sorting"
   ]
  },
  {
   "cell_type": "code",
   "execution_count": 21,
   "id": "1f5c6dc0",
   "metadata": {},
   "outputs": [
    {
     "ename": "NameError",
     "evalue": "name 'random' is not defined",
     "output_type": "error",
     "traceback": [
      "\u001b[1;31m---------------------------------------------------------------------------\u001b[0m",
      "\u001b[1;31mNameError\u001b[0m                                 Traceback (most recent call last)",
      "Cell \u001b[1;32mIn[21], line 1\u001b[0m\n\u001b[1;32m----> 1\u001b[0m x \u001b[38;5;241m=\u001b[39m [random\u001b[38;5;241m.\u001b[39mrandint(\u001b[38;5;241m0\u001b[39m,\u001b[38;5;241m10\u001b[39m) \u001b[38;5;28;01mfor\u001b[39;00m i \u001b[38;5;129;01min\u001b[39;00m \u001b[38;5;28mrange\u001b[39m(\u001b[38;5;241m100\u001b[39m)]\n\u001b[0;32m      2\u001b[0m \u001b[38;5;28mprint\u001b[39m(x)\n",
      "Cell \u001b[1;32mIn[21], line 1\u001b[0m, in \u001b[0;36m<listcomp>\u001b[1;34m(.0)\u001b[0m\n\u001b[1;32m----> 1\u001b[0m x \u001b[38;5;241m=\u001b[39m [random\u001b[38;5;241m.\u001b[39mrandint(\u001b[38;5;241m0\u001b[39m,\u001b[38;5;241m10\u001b[39m) \u001b[38;5;28;01mfor\u001b[39;00m i \u001b[38;5;129;01min\u001b[39;00m \u001b[38;5;28mrange\u001b[39m(\u001b[38;5;241m100\u001b[39m)]\n\u001b[0;32m      2\u001b[0m \u001b[38;5;28mprint\u001b[39m(x)\n",
      "\u001b[1;31mNameError\u001b[0m: name 'random' is not defined"
     ]
    }
   ],
   "source": [
    "x = [random.randint(0,10) for i in range(100)]\n",
    "print(x)"
   ]
  },
  {
   "cell_type": "code",
   "execution_count": 22,
   "id": "1ee557d0",
   "metadata": {},
   "outputs": [
    {
     "name": "stdout",
     "output_type": "stream",
     "text": [
      "['0', '3', '4', '5', '7', '8', '8', '9', '9', 'd', 'e', 'f', 'g', 'h', 'i', 'j', 'k', 'n', 'o', 'u', 'v', 'w']\n"
     ]
    }
   ],
   "source": [
    "print(sorted(\"fhweiugo897583490vnjkd\"))"
   ]
  },
  {
   "cell_type": "code",
   "execution_count": 24,
   "id": "1d2994ee",
   "metadata": {},
   "outputs": [
    {
     "name": "stdout",
     "output_type": "stream",
     "text": [
      "['w', 'v', 'u', 'o', 'n', 'k', 'j', 'i', 'h', 'g', 'f', 'e', 'd', '9', '9', '8', '8', '7', '5', '4', '3', '0']\n"
     ]
    }
   ],
   "source": [
    "print(sorted(\"fhweiugo897583490vnjkd\", reverse = True))"
   ]
  },
  {
   "cell_type": "code",
   "execution_count": 25,
   "id": "c789d952",
   "metadata": {},
   "outputs": [
    {
     "ename": "NameError",
     "evalue": "name 'x' is not defined",
     "output_type": "error",
     "traceback": [
      "\u001b[1;31m---------------------------------------------------------------------------\u001b[0m",
      "\u001b[1;31mNameError\u001b[0m                                 Traceback (most recent call last)",
      "Cell \u001b[1;32mIn[25], line 1\u001b[0m\n\u001b[1;32m----> 1\u001b[0m \u001b[38;5;28mprint\u001b[39m(x)\n",
      "\u001b[1;31mNameError\u001b[0m: name 'x' is not defined"
     ]
    }
   ],
   "source": [
    "print(x)"
   ]
  },
  {
   "cell_type": "markdown",
   "id": "691d03d5",
   "metadata": {},
   "source": [
    "### Nesting for Loop"
   ]
  },
  {
   "cell_type": "code",
   "execution_count": 28,
   "id": "930e3889",
   "metadata": {},
   "outputs": [
    {
     "name": "stdout",
     "output_type": "stream",
     "text": [
      "0 0 0\n",
      "0 1 1\n",
      "0 2 2\n",
      "1 0 1\n",
      "1 1 2\n",
      "1 2 3\n",
      "2 0 2\n",
      "2 1 3\n",
      "2 2 4\n"
     ]
    }
   ],
   "source": [
    "for i in range(3):\n",
    "    for j in range(3):\n",
    "        print(i,j, i+j)"
   ]
  },
  {
   "cell_type": "code",
   "execution_count": null,
   "id": "030fca32",
   "metadata": {},
   "outputs": [],
   "source": []
  }
 ],
 "metadata": {
  "kernelspec": {
   "display_name": "Python 3 (ipykernel)",
   "language": "python",
   "name": "python3"
  },
  "language_info": {
   "codemirror_mode": {
    "name": "ipython",
    "version": 3
   },
   "file_extension": ".py",
   "mimetype": "text/x-python",
   "name": "python",
   "nbconvert_exporter": "python",
   "pygments_lexer": "ipython3",
   "version": "3.11.5"
  }
 },
 "nbformat": 4,
 "nbformat_minor": 5
}
